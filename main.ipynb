{
 "cells": [
  {
   "cell_type": "code",
   "execution_count": 1,
   "id": "e5914ad0",
   "metadata": {},
   "outputs": [
    {
     "name": "stdout",
     "output_type": "stream",
     "text": [
      " * Serving Flask app '__main__'\n",
      " * Debug mode: on\n"
     ]
    },
    {
     "name": "stderr",
     "output_type": "stream",
     "text": [
      "WARNING: This is a development server. Do not use it in a production deployment. Use a production WSGI server instead.\n",
      " * Running on http://127.0.0.1:5000\n",
      "Press CTRL+C to quit\n",
      "127.0.0.1 - - [21/May/2024 23:30:18] \"GET / HTTP/1.1\" 200 -\n"
     ]
    },
    {
     "name": "stdout",
     "output_type": "stream",
     "text": [
      "Error fetching https://maps.google.com/maps%3Fq%3Dapplication%2Bof%2Bbleach%26um%3D1%26ie%3DUTF-8%26ved%3D1t:200713%26ictx%3D111: 404 Client Error: Not Found for url: https://maps.google.com/maps%3Fq%3Dapplication%2Bof%2Bbleach%26um%3D1%26ie%3DUTF-8%26ved%3D1t:200713%26ictx%3D111\n",
      "Error fetching https://dengarden.com/cleaning/22-Great-Uses-for-Household-Bleach: 403 Client Error: Forbidden for url: https://dengarden.com/cleaning/22-Great-Uses-for-Household-Bleach\n",
      "Error fetching https://www.thespruce.com/is-bleach-a-great-choice-as-a-cleaner-1900778: 406 Client Error: Not Acceptable for url: https://www.thespruce.com/is-bleach-a-great-choice-as-a-cleaner-1900778\n",
      "Error fetching https://www.rd.com/article/12-smart-ways-to-use-bleach/: 403 Client Error: Forbidden for url: https://www.rd.com/article/12-smart-ways-to-use-bleach/\n",
      "Error fetching https://www.readersdigest.ca/home-garden/tips/5-things-do-bleach/: 403 Client Error: Forbidden for url: https://www.readersdigest.ca/home-garden/tips/5-things-do-bleach/\n"
     ]
    },
    {
     "name": "stderr",
     "output_type": "stream",
     "text": [
      "127.0.0.1 - - [21/May/2024 23:31:40] \"POST /check HTTP/1.1\" 200 -\n"
     ]
    },
    {
     "name": "stdout",
     "output_type": "stream",
     "text": [
      "Error fetching https://accounts.google.com/ServiceLogin%3Fcontinue%3Dhttps://www.google.com/search%253Fq%253Dapplication%252Bof%252Bbleach%26hl%3Den: 404 Client Error: Not Found for url: https://accounts.google.com/ServiceLogin%3Fcontinue%3Dhttps://www.google.com/search%253Fq%253Dapplication%252Bof%252Bbleach%26hl%3Den\n"
     ]
    },
    {
     "name": "stderr",
     "output_type": "stream",
     "text": [
      "127.0.0.1 - - [21/May/2024 23:52:25] \"GET / HTTP/1.1\" 200 -\n",
      "127.0.0.1 - - [21/May/2024 23:52:25] \"GET /lib/owlcarousel/assets/owl.carousel.min.css HTTP/1.1\" 404 -\n",
      "127.0.0.1 - - [21/May/2024 23:52:26] \"GET /img/overlay-bottom.png HTTP/1.1\" 404 -\n",
      "127.0.0.1 - - [21/May/2024 23:52:26] \"GET /header.jpg HTTP/1.1\" 404 -\n",
      "127.0.0.1 - - [21/May/2024 23:52:26] \"GET /img/bg-image.jpg HTTP/1.1\" 404 -\n",
      "127.0.0.1 - - [21/May/2024 23:52:26] \"GET /img/overlay-top.png HTTP/1.1\" 404 -\n",
      "127.0.0.1 - - [21/May/2024 23:52:27] \"GET /img/favicon.ico HTTP/1.1\" 404 -\n",
      "127.0.0.1 - - [21/May/2024 23:52:27] \"GET /img/favicon.ico HTTP/1.1\" 404 -\n",
      "127.0.0.1 - - [21/May/2024 23:59:20] \"GET / HTTP/1.1\" 200 -\n",
      "127.0.0.1 - - [21/May/2024 23:59:20] \"GET /lib/owlcarousel/assets/owl.carousel.min.css HTTP/1.1\" 404 -\n",
      "127.0.0.1 - - [21/May/2024 23:59:21] \"GET /header.jpg HTTP/1.1\" 404 -\n",
      "127.0.0.1 - - [21/May/2024 23:59:21] \"GET /img/overlay-bottom.png HTTP/1.1\" 404 -\n",
      "127.0.0.1 - - [21/May/2024 23:59:21] \"GET /img/bg-image.jpg HTTP/1.1\" 404 -\n",
      "127.0.0.1 - - [21/May/2024 23:59:21] \"GET /img/overlay-top.png HTTP/1.1\" 404 -\n",
      "127.0.0.1 - - [21/May/2024 23:59:21] \"GET /img/favicon.ico HTTP/1.1\" 404 -\n"
     ]
    },
    {
     "name": "stdout",
     "output_type": "stream",
     "text": [
      "Error fetching https://maps.google.com/maps%3Fq%3DOur%2Badvanced%2Balgorithm%2Bchecks%2Bfor%2Bduplicates%2Band%2Bs%26um%3D1%26ie%3DUTF-8%26ved%3D1t:200713%26ictx%3D111: 404 Client Error: Not Found for url: https://maps.google.com/maps%3Fq%3DOur%2Badvanced%2Balgorithm%2Bchecks%2Bfor%2Bduplicates%2Band%2Bs%26um%3D1%26ie%3DUTF-8%26ved%3D1t:200713%26ictx%3D111\n",
      "Error fetching https://www.avrfreaks.net/s/topic/a5C3l000000UboXEAS/t159149: HTTPSConnectionPool(host='www.avrfreaks.net', port=443): Max retries exceeded with url: /s/topic/a5C3l000000UboXEAS/t159149 (Caused by SSLError(SSLCertVerificationError(1, '[SSL: CERTIFICATE_VERIFY_FAILED] certificate verify failed: unable to get local issuer certificate (_ssl.c:1006)')))\n",
      "Error fetching https://www.researchgate.net/publication/300432909_Advanced_Algorithms_for_Efficient_Approximate_Duplicate_Detection_in_Data_Streams_Using_Bloom_Filters: 403 Client Error: Forbidden for url: https://www.researchgate.net/publication/300432909_Advanced_Algorithms_for_Efficient_Approximate_Duplicate_Detection_in_Data_Streams_Using_Bloom_Filters\n",
      "Error fetching https://productresources.collibra.com/docs/collibra/latest/Content/DataQuality/DQCoreComponents/Duplicates%2520(advanced).htm: 403 Client Error: Forbidden for url: https://productresources.collibra.com/docs/collibra/latest/Content/DataQuality/DQCoreComponents/Duplicates%2520(advanced).htm\n"
     ]
    },
    {
     "name": "stderr",
     "output_type": "stream",
     "text": [
      "127.0.0.1 - - [22/May/2024 00:00:33] \"POST /check HTTP/1.1\" 200 -\n"
     ]
    },
    {
     "name": "stdout",
     "output_type": "stream",
     "text": [
      "Error fetching https://accounts.google.com/ServiceLogin%3Fcontinue%3Dhttps://www.google.com/search%253Fq%253DOur%252Badvanced%252Balgorithm%252Bchecks%252Bfor%252Bduplicates%252Band%252Bs%26hl%3Den: 404 Client Error: Not Found for url: https://accounts.google.com/ServiceLogin%3Fcontinue%3Dhttps://www.google.com/search%253Fq%253DOur%252Badvanced%252Balgorithm%252Bchecks%252Bfor%252Bduplicates%252Band%252Bs%26hl%3Den\n"
     ]
    },
    {
     "name": "stderr",
     "output_type": "stream",
     "text": [
      "127.0.0.1 - - [22/May/2024 00:15:09] \"GET / HTTP/1.1\" 200 -\n",
      "127.0.0.1 - - [22/May/2024 00:15:10] \"GET /lib/owlcarousel/assets/owl.carousel.min.css HTTP/1.1\" 404 -\n",
      "127.0.0.1 - - [22/May/2024 00:15:10] \"GET /static/feature.jpg HTTP/1.1\" 200 -\n",
      "127.0.0.1 - - [22/May/2024 00:15:11] \"GET /img/overlay-bottom.png HTTP/1.1\" 404 -\n",
      "127.0.0.1 - - [22/May/2024 00:15:11] \"GET /header.jpg HTTP/1.1\" 404 -\n",
      "127.0.0.1 - - [22/May/2024 00:15:11] \"GET /img/bg-image.jpg HTTP/1.1\" 404 -\n",
      "127.0.0.1 - - [22/May/2024 00:15:11] \"GET /img/overlay-top.png HTTP/1.1\" 404 -\n",
      "127.0.0.1 - - [22/May/2024 00:15:11] \"GET /img/favicon.ico HTTP/1.1\" 404 -\n",
      "127.0.0.1 - - [22/May/2024 00:15:29] \"GET / HTTP/1.1\" 200 -\n",
      "127.0.0.1 - - [22/May/2024 00:15:29] \"GET /lib/owlcarousel/assets/owl.carousel.min.css HTTP/1.1\" 404 -\n",
      "127.0.0.1 - - [22/May/2024 00:15:29] \"GET /static/feature.jpg HTTP/1.1\" 304 -\n",
      "127.0.0.1 - - [22/May/2024 00:15:30] \"GET /header.jpg HTTP/1.1\" 404 -\n",
      "127.0.0.1 - - [22/May/2024 00:15:30] \"GET /img/overlay-bottom.png HTTP/1.1\" 404 -\n",
      "127.0.0.1 - - [22/May/2024 00:15:30] \"GET /img/bg-image.jpg HTTP/1.1\" 404 -\n",
      "127.0.0.1 - - [22/May/2024 00:15:30] \"GET /img/overlay-top.png HTTP/1.1\" 404 -\n",
      "127.0.0.1 - - [22/May/2024 00:15:30] \"GET /img/favicon.ico HTTP/1.1\" 404 -\n",
      "127.0.0.1 - - [22/May/2024 00:20:36] \"GET / HTTP/1.1\" 200 -\n",
      "127.0.0.1 - - [22/May/2024 00:20:36] \"GET /lib/owlcarousel/assets/owl.carousel.min.css HTTP/1.1\" 404 -\n",
      "127.0.0.1 - - [22/May/2024 00:20:36] \"GET /static/feature.jpg HTTP/1.1\" 304 -\n",
      "127.0.0.1 - - [22/May/2024 00:20:37] \"GET /header.jpg HTTP/1.1\" 404 -\n",
      "127.0.0.1 - - [22/May/2024 00:20:37] \"GET /img/overlay-bottom.png HTTP/1.1\" 404 -\n",
      "127.0.0.1 - - [22/May/2024 00:20:37] \"GET /img/bg-image.jpg HTTP/1.1\" 404 -\n",
      "127.0.0.1 - - [22/May/2024 00:20:37] \"GET /img/overlay-top.png HTTP/1.1\" 404 -\n",
      "127.0.0.1 - - [22/May/2024 00:20:37] \"GET /img/favicon.ico HTTP/1.1\" 404 -\n",
      "127.0.0.1 - - [22/May/2024 00:25:58] \"GET / HTTP/1.1\" 200 -\n",
      "127.0.0.1 - - [22/May/2024 00:25:58] \"GET /img/feature.jpg HTTP/1.1\" 404 -\n",
      "127.0.0.1 - - [22/May/2024 00:25:58] \"GET /lib/owlcarousel/assets/owl.carousel.min.css HTTP/1.1\" 404 -\n",
      "127.0.0.1 - - [22/May/2024 00:25:59] \"GET /header.jpg HTTP/1.1\" 404 -\n",
      "127.0.0.1 - - [22/May/2024 00:25:59] \"GET /img/overlay-bottom.png HTTP/1.1\" 404 -\n",
      "127.0.0.1 - - [22/May/2024 00:25:59] \"GET /img/bg-image.jpg HTTP/1.1\" 404 -\n",
      "127.0.0.1 - - [22/May/2024 00:25:59] \"GET /img/overlay-top.png HTTP/1.1\" 404 -\n",
      "127.0.0.1 - - [22/May/2024 00:25:59] \"GET /img/favicon.ico HTTP/1.1\" 404 -\n",
      "127.0.0.1 - - [22/May/2024 00:26:51] \"GET / HTTP/1.1\" 200 -\n",
      "127.0.0.1 - - [22/May/2024 00:26:51] \"GET /lib/owlcarousel/assets/owl.carousel.min.css HTTP/1.1\" 404 -\n",
      "127.0.0.1 - - [22/May/2024 00:26:51] \"GET /static/feature.jpg HTTP/1.1\" 304 -\n",
      "127.0.0.1 - - [22/May/2024 00:26:52] \"GET /header.jpg HTTP/1.1\" 404 -\n",
      "127.0.0.1 - - [22/May/2024 00:26:52] \"GET /img/overlay-bottom.png HTTP/1.1\" 404 -\n",
      "127.0.0.1 - - [22/May/2024 00:26:52] \"GET /img/bg-image.jpg HTTP/1.1\" 404 -\n",
      "127.0.0.1 - - [22/May/2024 00:26:52] \"GET /img/overlay-top.png HTTP/1.1\" 404 -\n",
      "127.0.0.1 - - [22/May/2024 00:26:52] \"GET /img/favicon.ico HTTP/1.1\" 404 -\n",
      "127.0.0.1 - - [22/May/2024 00:33:43] \"GET / HTTP/1.1\" 200 -\n",
      "127.0.0.1 - - [22/May/2024 00:33:43] \"GET /lib/owlcarousel/assets/owl.carousel.min.css HTTP/1.1\" 404 -\n",
      "127.0.0.1 - - [22/May/2024 00:33:43] \"GET /static/feature.jpg HTTP/1.1\" 200 -\n",
      "127.0.0.1 - - [22/May/2024 00:33:44] \"GET /header.jpg HTTP/1.1\" 404 -\n",
      "127.0.0.1 - - [22/May/2024 00:33:44] \"GET /img/overlay-bottom.png HTTP/1.1\" 404 -\n",
      "127.0.0.1 - - [22/May/2024 00:33:44] \"GET /img/overlay-top.png HTTP/1.1\" 404 -\n",
      "127.0.0.1 - - [22/May/2024 00:33:44] \"GET /img/bg-image.jpg HTTP/1.1\" 404 -\n",
      "127.0.0.1 - - [22/May/2024 00:33:44] \"GET /img/favicon.ico HTTP/1.1\" 404 -\n",
      "127.0.0.1 - - [22/May/2024 00:38:25] \"GET / HTTP/1.1\" 200 -\n",
      "127.0.0.1 - - [22/May/2024 00:38:25] \"GET /lib/owlcarousel/assets/owl.carousel.min.css HTTP/1.1\" 404 -\n",
      "127.0.0.1 - - [22/May/2024 00:38:26] \"GET /static/feature.jpg HTTP/1.1\" 304 -\n",
      "127.0.0.1 - - [22/May/2024 00:38:26] \"GET /header.jpg HTTP/1.1\" 404 -\n",
      "127.0.0.1 - - [22/May/2024 00:38:26] \"GET /img/overlay-bottom.png HTTP/1.1\" 404 -\n",
      "127.0.0.1 - - [22/May/2024 00:38:26] \"GET /img/bg-image.jpg HTTP/1.1\" 404 -\n",
      "127.0.0.1 - - [22/May/2024 00:38:26] \"GET /img/overlay-top.png HTTP/1.1\" 404 -\n",
      "127.0.0.1 - - [22/May/2024 00:38:27] \"GET /img/favicon.ico HTTP/1.1\" 404 -\n",
      "127.0.0.1 - - [22/May/2024 00:45:08] \"GET / HTTP/1.1\" 200 -\n",
      "127.0.0.1 - - [22/May/2024 00:45:08] \"GET /lib/owlcarousel/assets/owl.carousel.min.css HTTP/1.1\" 404 -\n",
      "127.0.0.1 - - [22/May/2024 00:45:08] \"GET /static/feature.jpg HTTP/1.1\" 304 -\n",
      "127.0.0.1 - - [22/May/2024 00:45:09] \"GET /img/overlay-bottom.png HTTP/1.1\" 404 -\n",
      "127.0.0.1 - - [22/May/2024 00:45:09] \"GET /header.jpg HTTP/1.1\" 404 -\n",
      "127.0.0.1 - - [22/May/2024 00:45:09] \"GET /img/bg-image.jpg HTTP/1.1\" 404 -\n",
      "127.0.0.1 - - [22/May/2024 00:45:09] \"GET /img/overlay-top.png HTTP/1.1\" 404 -\n",
      "127.0.0.1 - - [22/May/2024 00:45:09] \"GET /img/favicon.ico HTTP/1.1\" 404 -\n",
      "127.0.0.1 - - [22/May/2024 00:45:43] \"GET / HTTP/1.1\" 200 -\n",
      "127.0.0.1 - - [22/May/2024 00:45:43] \"GET /lib/owlcarousel/assets/owl.carousel.min.css HTTP/1.1\" 404 -\n",
      "127.0.0.1 - - [22/May/2024 00:45:43] \"GET /static/feature.jpg HTTP/1.1\" 304 -\n",
      "127.0.0.1 - - [22/May/2024 00:45:43] \"GET /header.jpg HTTP/1.1\" 404 -\n",
      "127.0.0.1 - - [22/May/2024 00:45:43] \"GET /img/overlay-bottom.png HTTP/1.1\" 404 -\n",
      "127.0.0.1 - - [22/May/2024 00:45:43] \"GET /img/bg-image.jpg HTTP/1.1\" 404 -\n",
      "127.0.0.1 - - [22/May/2024 00:45:44] \"GET /img/overlay-top.png HTTP/1.1\" 404 -\n",
      "127.0.0.1 - - [22/May/2024 00:45:44] \"GET /img/favicon.ico HTTP/1.1\" 404 -\n",
      "127.0.0.1 - - [22/May/2024 00:51:28] \"GET / HTTP/1.1\" 200 -\n",
      "127.0.0.1 - - [22/May/2024 00:51:28] \"GET /lib/owlcarousel/assets/owl.carousel.min.css HTTP/1.1\" 404 -\n",
      "127.0.0.1 - - [22/May/2024 00:51:28] \"GET /static/feature.jpg HTTP/1.1\" 304 -\n",
      "127.0.0.1 - - [22/May/2024 00:51:29] \"GET /static/bg.jpg HTTP/1.1\" 200 -\n",
      "127.0.0.1 - - [22/May/2024 00:51:29] \"GET /img/overlay-bottom.png HTTP/1.1\" 404 -\n",
      "127.0.0.1 - - [22/May/2024 00:51:29] \"GET /img/bg-image.jpg HTTP/1.1\" 404 -\n",
      "127.0.0.1 - - [22/May/2024 00:51:29] \"GET /img/overlay-top.png HTTP/1.1\" 404 -\n",
      "127.0.0.1 - - [22/May/2024 00:51:29] \"GET /img/favicon.ico HTTP/1.1\" 404 -\n"
     ]
    },
    {
     "name": "stdout",
     "output_type": "stream",
     "text": [
      "Error fetching https://maps.google.com/maps%3Fq%3DEnter%2Btext%2Bto%2Bcheck%26um%3D1%26ie%3DUTF-8%26ved%3D1t:200713%26ictx%3D111: 404 Client Error: Not Found for url: https://maps.google.com/maps%3Fq%3DEnter%2Btext%2Bto%2Bcheck%26um%3D1%26ie%3DUTF-8%26ved%3D1t:200713%26ictx%3D111\n",
      "Error fetching https://quillbot.com/grammar-check: 403 Client Error: Forbidden for url: https://quillbot.com/grammar-check\n",
      "Error fetching https://www.oxfordlearnersdictionaries.com/text-checker/: ('Connection aborted.', RemoteDisconnected('Remote end closed connection without response'))\n",
      "Error fetching https://quillbot.com/punctuation-checker: 403 Client Error: Forbidden for url: https://quillbot.com/punctuation-checker\n",
      "Error fetching https://www.reverso.net/spell-checker/english-spelling-grammar/: ('Connection aborted.', RemoteDisconnected('Remote end closed connection without response'))\n",
      "Error fetching https://www.reverso.net/spell-checker/french-spelling-grammar/: ('Connection aborted.', RemoteDisconnected('Remote end closed connection without response'))\n",
      "Error fetching https://www.reverso.net/spell-checker/spanish-spelling-grammar/: ('Connection aborted.', RemoteDisconnected('Remote end closed connection without response'))\n"
     ]
    },
    {
     "name": "stderr",
     "output_type": "stream",
     "text": [
      "127.0.0.1 - - [22/May/2024 00:54:08] \"POST /check HTTP/1.1\" 200 -\n"
     ]
    },
    {
     "name": "stdout",
     "output_type": "stream",
     "text": [
      "Error fetching https://accounts.google.com/ServiceLogin%3Fcontinue%3Dhttps://www.google.com/search%253Fq%253DEnter%252Btext%252Bto%252Bcheck%26hl%3Den: 404 Client Error: Not Found for url: https://accounts.google.com/ServiceLogin%3Fcontinue%3Dhttps://www.google.com/search%253Fq%253DEnter%252Btext%252Bto%252Bcheck%26hl%3Den\n"
     ]
    },
    {
     "name": "stderr",
     "output_type": "stream",
     "text": [
      "127.0.0.1 - - [22/May/2024 00:56:05] \"GET / HTTP/1.1\" 200 -\n",
      "127.0.0.1 - - [22/May/2024 00:56:05] \"GET /lib/owlcarousel/assets/owl.carousel.min.css HTTP/1.1\" 404 -\n",
      "127.0.0.1 - - [22/May/2024 00:56:05] \"GET /static/feature.jpg HTTP/1.1\" 304 -\n",
      "127.0.0.1 - - [22/May/2024 00:56:06] \"GET /static/bg.jpg HTTP/1.1\" 304 -\n",
      "127.0.0.1 - - [22/May/2024 00:56:06] \"GET /img/bg-image.jpg HTTP/1.1\" 404 -\n",
      "127.0.0.1 - - [22/May/2024 00:56:06] \"GET /img/overlay-top.png HTTP/1.1\" 404 -\n",
      "127.0.0.1 - - [22/May/2024 00:56:06] \"GET /img/overlay-bottom.png HTTP/1.1\" 404 -\n",
      "127.0.0.1 - - [22/May/2024 00:56:07] \"GET /img/favicon.ico HTTP/1.1\" 404 -\n",
      "127.0.0.1 - - [22/May/2024 00:57:31] \"GET / HTTP/1.1\" 200 -\n",
      "127.0.0.1 - - [22/May/2024 00:57:31] \"GET /lib/owlcarousel/assets/owl.carousel.min.css HTTP/1.1\" 404 -\n",
      "127.0.0.1 - - [22/May/2024 00:57:31] \"GET /static/feature.jpg HTTP/1.1\" 304 -\n",
      "127.0.0.1 - - [22/May/2024 00:57:31] \"GET /img/overlay-bottom.png HTTP/1.1\" 404 -\n",
      "127.0.0.1 - - [22/May/2024 00:57:31] \"GET /img/bg-image.jpg HTTP/1.1\" 404 -\n",
      "127.0.0.1 - - [22/May/2024 00:57:31] \"GET /static/bg.jpg HTTP/1.1\" 304 -\n",
      "127.0.0.1 - - [22/May/2024 00:57:31] \"GET /img/overlay-top.png HTTP/1.1\" 404 -\n",
      "127.0.0.1 - - [22/May/2024 00:57:31] \"GET /img/favicon.ico HTTP/1.1\" 404 -\n"
     ]
    }
   ],
   "source": [
    "from flask import Flask, request, jsonify, render_template\n",
    "import requests\n",
    "from bs4 import BeautifulSoup\n",
    "from gensim import corpora, models, similarities\n",
    "from gensim.parsing.preprocessing import preprocess_string, strip_punctuation, strip_numeric, strip_short\n",
    "\n",
    "app = Flask(__name__)\n",
    "\n",
    "@app.route('/')\n",
    "def index():\n",
    "    return render_template('index.html')\n",
    "\n",
    "@app.route('/check', methods=['POST'])\n",
    "def check_plagiarism():\n",
    "    user_input = request.json.get('text')\n",
    "    if not user_input:\n",
    "        return jsonify({\"error\": \"No text provided\"}), 400\n",
    "    \n",
    "    try:\n",
    "        result = check_text_for_plagiarism(user_input)\n",
    "        return jsonify(result)\n",
    "    except Exception as e:\n",
    "        return jsonify({\"error\": str(e)}), 500\n",
    "\n",
    "def scrape_web(query):\n",
    "    search_url = f\"https://www.google.com/search?q={query}\"\n",
    "    headers = {\n",
    "        \"User-Agent\": \"Mozilla/5.0\"\n",
    "    }\n",
    "    response = requests.get(search_url, headers=headers)\n",
    "    soup = BeautifulSoup(response.text, 'html.parser')\n",
    "    \n",
    "    results = []\n",
    "    for g in soup.find_all('a'):\n",
    "        link = g.get('href')\n",
    "        if link and 'url?q=' in link:\n",
    "            results.append(link.split('url?q=')[1].split('&')[0])\n",
    "    \n",
    "    return results\n",
    "\n",
    "def fetch_page_content(url):\n",
    "    try:\n",
    "        response = requests.get(url)\n",
    "        response.raise_for_status()\n",
    "        soup = BeautifulSoup(response.text, 'html.parser')\n",
    "        paragraphs = soup.find_all('p')\n",
    "        page_content = ' '.join([para.text for para in paragraphs])\n",
    "        return page_content\n",
    "    except requests.RequestException as e:\n",
    "        print(f\"Error fetching {url}: {e}\")\n",
    "        return \"\"\n",
    "\n",
    "def preprocess(text):\n",
    "    custom_filters = [strip_punctuation, strip_numeric, strip_short]\n",
    "    return preprocess_string(text, custom_filters)\n",
    "\n",
    "def compare_texts(text1, text2):\n",
    "    texts = [preprocess(text1), preprocess(text2)]\n",
    "    dictionary = corpora.Dictionary(texts)\n",
    "    corpus = [dictionary.doc2bow(text) for text in texts]\n",
    "    lsi = models.LsiModel(corpus, id2word=dictionary, num_topics=2)\n",
    "    index = similarities.MatrixSimilarity(lsi[corpus])\n",
    "    \n",
    "    vec_bow = dictionary.doc2bow(preprocess(text2))\n",
    "    vec_lsi = lsi[vec_bow]\n",
    "    \n",
    "    sims = index[vec_lsi]\n",
    "    return float(sims[0])\n",
    "\n",
    "def check_text_for_plagiarism(text):\n",
    "    search_results = scrape_web(text[:50])\n",
    "    results = []\n",
    "    for url in search_results:\n",
    "        page_content = fetch_page_content(url)\n",
    "        if page_content:\n",
    "            similarity_score = compare_texts(text, page_content)\n",
    "            if similarity_score > 0:\n",
    "                results.append({\n",
    "                    \"url\": url,\n",
    "                    \"similarity\": similarity_score,\n",
    "                    \"content\": page_content[:500]  # Limiting to the first 500 characters for brevity\n",
    "                })\n",
    "    \n",
    "    if results:\n",
    "        best_match = max(results, key=lambda x: x['similarity'])\n",
    "        best_match['similarity'] = round(best_match['similarity'], 4)\n",
    "    else:\n",
    "        best_match = {\"url\": \"\", \"similarity\": 0.0, \"content\": \"\"}\n",
    "\n",
    "    return best_match\n",
    "\n",
    "if __name__ == '__main__':\n",
    "    app.run(debug=True, use_reloader=False)"
   ]
  },
  {
   "cell_type": "code",
   "execution_count": null,
   "id": "87a4310c",
   "metadata": {},
   "outputs": [],
   "source": []
  },
  {
   "cell_type": "code",
   "execution_count": null,
   "id": "f16c25fb",
   "metadata": {},
   "outputs": [],
   "source": []
  }
 ],
 "metadata": {
  "kernelspec": {
   "display_name": "Python 3 (ipykernel)",
   "language": "python",
   "name": "python3"
  },
  "language_info": {
   "codemirror_mode": {
    "name": "ipython",
    "version": 3
   },
   "file_extension": ".py",
   "mimetype": "text/x-python",
   "name": "python",
   "nbconvert_exporter": "python",
   "pygments_lexer": "ipython3",
   "version": "3.11.5"
  }
 },
 "nbformat": 4,
 "nbformat_minor": 5
}
